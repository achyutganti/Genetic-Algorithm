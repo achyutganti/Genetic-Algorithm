{
 "cells": [
  {
   "cell_type": "code",
   "execution_count": 1,
   "metadata": {
    "collapsed": true
   },
   "outputs": [],
   "source": [
    "import numpy as np\n",
    "import pandas as pd\n",
    "import math\n",
    "from random import randint\n",
    "import random"
   ]
  },
  {
   "cell_type": "code",
   "execution_count": 2,
   "metadata": {
    "collapsed": true
   },
   "outputs": [],
   "source": [
    "# Sudoku representation as a string of numbers. A candidate.\n",
    "my_num = '530070000600195000098000060800060003400803001700020006060000280000419005000080079'"
   ]
  },
  {
   "cell_type": "code",
   "execution_count": 3,
   "metadata": {
    "collapsed": true
   },
   "outputs": [],
   "source": [
    "# Function converts the string of numbers into 9x9 matrix\n",
    "def sep_list(string):\n",
    "    my_list =[]\n",
    "    for i in string:\n",
    "        my_list.append(int(i))\n",
    "    return np.array(my_list).reshape(9,9)"
   ]
  },
  {
   "cell_type": "code",
   "execution_count": 5,
   "metadata": {},
   "outputs": [
    {
     "data": {
      "text/plain": [
       "array([[5, 3, 0, 0, 7, 0, 0, 0, 0],\n",
       "       [6, 0, 0, 1, 9, 5, 0, 0, 0],\n",
       "       [0, 9, 8, 0, 0, 0, 0, 6, 0],\n",
       "       [8, 0, 0, 0, 6, 0, 0, 0, 3],\n",
       "       [4, 0, 0, 8, 0, 3, 0, 0, 1],\n",
       "       [7, 0, 0, 0, 2, 0, 0, 0, 6],\n",
       "       [0, 6, 0, 0, 0, 0, 2, 8, 0],\n",
       "       [0, 0, 0, 4, 1, 9, 0, 0, 5],\n",
       "       [0, 0, 0, 0, 8, 0, 0, 7, 9]])"
      ]
     },
     "execution_count": 5,
     "metadata": {},
     "output_type": "execute_result"
    }
   ],
   "source": [
    "# Initializing the sudoku\n",
    "sudoku = sep_list(my_num)\n",
    "sudoku"
   ]
  },
  {
   "cell_type": "code",
   "execution_count": 6,
   "metadata": {
    "collapsed": true
   },
   "outputs": [],
   "source": [
    "# Storing the non-zero indices in the sudoku for later purposes\n",
    "non_zero_indi = list() \n",
    "new_sudoku = sudoku.flatten()\n",
    "for i in range(sudoku.size):\n",
    "    if new_sudoku[i]!=0:\n",
    "        non_zero_indi.append(i)"
   ]
  },
  {
   "cell_type": "code",
   "execution_count": 9,
   "metadata": {
    "collapsed": true
   },
   "outputs": [],
   "source": [
    "# length of zero positions in sudoku. this will be the length of our genome.\n",
    "len_of_genome = sudoku.size - np.count_nonzero(sudoku)"
   ]
  },
  {
   "cell_type": "code",
   "execution_count": 10,
   "metadata": {
    "collapsed": true
   },
   "outputs": [],
   "source": [
    "# Generate population for the sudoku\n",
    "def population(integer):\n",
    "    pop = list()\n",
    "    for i in range(integer):\n",
    "        pop.append(np.random.randint(1,9,size=len_of_genome))\n",
    "    return pop"
   ]
  },
  {
   "cell_type": "code",
   "execution_count": 11,
   "metadata": {
    "collapsed": true
   },
   "outputs": [],
   "source": [
    "# converting the population into dictionary\n",
    "def dict_pop1(pop):\n",
    "    dict_pop = {}\n",
    "    for i in range(len(pop)):\n",
    "        dict_pop['pop{}'.format(i)] = pop[i]\n",
    "    return dict_pop"
   ]
  },
  {
   "cell_type": "code",
   "execution_count": 13,
   "metadata": {
    "collapsed": true
   },
   "outputs": [],
   "source": [
    "# generate the genome \n",
    "def genome(sudoku,pop):\n",
    "    \n",
    "    all_sudoku = list()\n",
    "    \n",
    "    for p in range(len(pop)):\n",
    "        new_sudoku = sudoku.flatten()\n",
    "        j=0\n",
    "    \n",
    "        for i in range(new_sudoku.size):\n",
    "            if new_sudoku[i] == 0:\n",
    "                new_sudoku[i] = pop[p][j]\n",
    "                j+=1\n",
    "        all_sudoku.append(new_sudoku)\n",
    "        \n",
    "    return all_sudoku"
   ]
  },
  {
   "cell_type": "code",
   "execution_count": 14,
   "metadata": {
    "collapsed": true
   },
   "outputs": [],
   "source": [
    "# fitness calculation\n",
    "def fitness_calc(genes):\n",
    "    \n",
    "    all_fitness = {}\n",
    "    reshaped_sudoku = list()\n",
    "    \n",
    "    for gene_no,gene in enumerate(genes):\n",
    "        fitness = 0\n",
    "        r1 = 0\n",
    "\n",
    "        temp = gene.reshape(9,9)\n",
    "        \n",
    "        for i in range(9):\n",
    "            fitness+=len(np.unique(temp[:,i]))\n",
    "            fitness+=len(np.unique(temp[i,:]))\n",
    "        \n",
    "        for k in range(0,3):\n",
    "            c1 = 0\n",
    "            for q in range(0,3):\n",
    "                temp1 = temp[0 + r1:3 + r1, 0 + c1:3 + c1].flatten()\n",
    "                fitness+=len(np.unique(temp1))\n",
    "                c1+=3\n",
    "            r1+=3\n",
    "        all_fitness['pop{}'.format(gene_no)]= fitness/float(243)       \n",
    "        \n",
    "    return all_fitness"
   ]
  },
  {
   "cell_type": "code",
   "execution_count": 16,
   "metadata": {
    "collapsed": true
   },
   "outputs": [],
   "source": [
    "# eliminating the genome with minumum fitness values\n",
    "def elimination(fitn_l,p,n):\n",
    "    \n",
    "    for i in range(0,int(p*n)):\n",
    "        min_val = min(fitn_l.values())\n",
    "        fitn_l = {key: value for key, value in fitn_l.items() \n",
    "             if value is not min_val}\n",
    "        \n",
    "    return fitn_l"
   ]
  },
  {
   "cell_type": "code",
   "execution_count": 19,
   "metadata": {
    "collapsed": true
   },
   "outputs": [],
   "source": [
    "# calculating the fitness proportion\n",
    "def crossover(fit_list):\n",
    "    \n",
    "    cross_sum = 0\n",
    "    \n",
    "    for i in fit_list.values():\n",
    "        cross_sum+=i\n",
    "    fit_prop_list = {}\n",
    "    \n",
    "    for key,value in fit_list.items():\n",
    "        fit_prop_list[key] = value/cross_sum\n",
    "        \n",
    "    return fit_prop_list"
   ]
  },
  {
   "cell_type": "code",
   "execution_count": 20,
   "metadata": {
    "collapsed": true
   },
   "outputs": [],
   "source": [
    "# for roulette wheel\n",
    "def rolette(cross):\n",
    "    \n",
    "    roulette_dic = {}\n",
    "    roulette_sum = 0\n",
    "\n",
    "    for key, value in cross.items():\n",
    "        roulette_dic[key]= value+roulette_sum\n",
    "        roulette_sum+=value\n",
    "\n",
    "    return roulette_dic"
   ]
  },
  {
   "cell_type": "code",
   "execution_count": 21,
   "metadata": {
    "collapsed": true
   },
   "outputs": [],
   "source": [
    "# to selelct the parents for crossover\n",
    "def comparison(r, rolette2):\n",
    "    \n",
    "    total = 0\n",
    "    \n",
    "    for key, values in rolette2.items():       \n",
    "        if r <= values:\n",
    "            return key"
   ]
  },
  {
   "cell_type": "code",
   "execution_count": 24,
   "metadata": {
    "collapsed": true
   },
   "outputs": [],
   "source": [
    "# generating the children using crossover and mutation\n",
    "def child(rolette1,dict_pop1,n,p):\n",
    "    \n",
    "    child_list = list()\n",
    "    index = 0\n",
    "    \n",
    "    for length in range(0,int(n*p)):\n",
    "        gene1 = list()\n",
    "        gene2 = list()\n",
    "        \n",
    "        r1 = random.uniform(0,1)\n",
    "        r2 = random.uniform(0,1)\n",
    "        \n",
    "        key1 = comparison(r1,rolette1)\n",
    "        key2 = comparison(r2,rolette1)\n",
    "        \n",
    "        gene1 = dict_pop1[key1]\n",
    "        gene2 = dict_pop1[key2]\n",
    "        \n",
    "        r3 = random.randint(int(len(gene1)/3),len(gene1)-10)\n",
    "        \n",
    "        gene1[0:r3],gene2[0:r3] = gene2[0:r3],gene1[0:r3]\n",
    "        \n",
    "        for i in range(0,5):        \n",
    "            r_mut1 = random.randint(0,int(len(gene1)/2)-1)\n",
    "            r_mut2 = random.randint(int(len(gene1)/2),len(gene1)-1)\n",
    "            temp = gene1[r_mut1]\n",
    "            gene1[r_mut1] =gene1[r_mut2]\n",
    "            gene1[r_mut2] =temp\n",
    "        child_list.append(gene1) \n",
    "        \n",
    "    return child_list\n",
    "        "
   ]
  },
  {
   "cell_type": "code",
   "execution_count": 44,
   "metadata": {
    "collapsed": true
   },
   "outputs": [],
   "source": [
    "# generating the population. Initialization\n",
    "pop = population(10000)"
   ]
  },
  {
   "cell_type": "code",
   "execution_count": 45,
   "metadata": {
    "collapsed": true
   },
   "outputs": [],
   "source": [
    "# running the GA for 20 generations\n",
    "for i in range(0,20):\n",
    "    dict_pop = dict_pop1(pop)\n",
    "    new_su = genome(sudoku,pop)\n",
    "    \n",
    "    fitn_list = fitness_calc(new_su)\n",
    "    elimi_list = elimination(fitn_list,10000,0.3)\n",
    "    \n",
    "#     print('sum' + '=' + str(sum(elimi_list.values())/7000))\n",
    "#     print('maximum' + '=' +  str(max(elimi_list.values())))\n",
    "\n",
    "    cross_fit = crossover(elimi_list)\n",
    "    rolette_result = rolette(cross_fit)\n",
    "    chil1 =child(rolette_result,dict_pop,10000,0.3)\n",
    "#     print(chil1)\n",
    "    k_l = list()\n",
    "    \n",
    "    for keys in elimi_list.keys():\n",
    "        k_l.append(int(keys[3:]))\n",
    "    n_l = []\n",
    "    n_l = range(int(max(k_l))+1)\n",
    "    v = list(set(n_l)-set(k_l))\n",
    "    \n",
    "    for i,x in zip(v,chil1):\n",
    "        pop[i] = x\n"
   ]
  },
  {
   "cell_type": "code",
   "execution_count": null,
   "metadata": {
    "collapsed": true
   },
   "outputs": [],
   "source": []
  }
 ],
 "metadata": {
  "kernelspec": {
   "display_name": "Python [conda env:anaconda2]",
   "language": "python",
   "name": "conda-env-anaconda2-py"
  },
  "language_info": {
   "codemirror_mode": {
    "name": "ipython",
    "version": 2
   },
   "file_extension": ".py",
   "mimetype": "text/x-python",
   "name": "python",
   "nbconvert_exporter": "python",
   "pygments_lexer": "ipython2",
   "version": "2.7.14"
  }
 },
 "nbformat": 4,
 "nbformat_minor": 2
}
